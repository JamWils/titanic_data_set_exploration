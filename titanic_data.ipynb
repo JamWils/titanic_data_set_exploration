{
 "cells": [
  {
   "cell_type": "markdown",
   "id": "0cfb4afa",
   "metadata": {},
   "source": [
    "# Titanic Dataset Exploration"
   ]
  }
 ],
 "metadata": {
  "language_info": {
   "name": "python"
  }
 },
 "nbformat": 4,
 "nbformat_minor": 5
}
